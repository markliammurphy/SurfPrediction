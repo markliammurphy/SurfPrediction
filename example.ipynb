{
 "cells": [
  {
   "cell_type": "code",
   "execution_count": 1,
   "metadata": {
    "slideshow": {
     "slide_type": "-"
    }
   },
   "outputs": [],
   "source": [
    "from IPython.display import display\n",
    "from ipywidgets import *\n",
    "\n",
    "import numpy as np\n",
    "import pandas as pd\n",
    "import bqplot as bq\n",
    "import datetime as dt"
   ]
  },
  {
   "cell_type": "code",
   "execution_count": 2,
   "metadata": {},
   "outputs": [],
   "source": [
    "station41110 = pd.read_csv('data/station41110.csv')\n",
    "station41110['datetime'] = pd.to_datetime(station41110['datetime'])\n",
    "station41110['date'] = station41110['datetime'].dt.date\n",
    "station41110['hour'] = station41110['datetime'].dt.hour"
   ]
  },
  {
   "cell_type": "code",
   "execution_count": 3,
   "metadata": {},
   "outputs": [],
   "source": [
    "by_hour = station41110.groupby(['date', 'hour']).agg({'datetime': 'min', 'WVHT': 'mean'})\n",
    "by_date = station41110.groupby(['date']).agg({'datetime': 'min', 'WVHT': 'mean'})"
   ]
  },
  {
   "cell_type": "code",
   "execution_count": 4,
   "metadata": {},
   "outputs": [
    {
     "data": {
      "application/vnd.jupyter.widget-view+json": {
       "model_id": "5243db60a0334f89998d7618b671dc32",
       "version_major": 2,
       "version_minor": 0
      },
      "text/plain": [
       "Figure(animation_duration=1000, axes=[Axis(label='x', scale=DateScale(), tick_format='%b %y'), Axis(label='y',…"
      ]
     },
     "metadata": {},
     "output_type": "display_data"
    }
   ],
   "source": [
    "xs = bq.DateScale()\n",
    "ys = bq.LinearScale()\n",
    "x = by_date['datetime']\n",
    "y = by_date['WVHT']\n",
    "\n",
    "line = bq.Lines(x=x, y=y, scales={'x': xs, 'y': ys}, colors=['green'])\n",
    "xax = bq.Axis(scale=xs, label='x', tick_format='%b %y', grid_lines='solid')\n",
    "yax = bq.Axis(scale=ys, orientation='vertical', tick_format='0.2f', label='y', grid_lines='solid')\n",
    "\n",
    "fig = bq.Figure(marks=[line], axes=[xax, yax], animation_duration=1000)\n",
    "display(fig)"
   ]
  },
  {
   "cell_type": "code",
   "execution_count": 5,
   "metadata": {},
   "outputs": [
    {
     "data": {
      "application/vnd.jupyter.widget-view+json": {
       "model_id": "a55374b9d32a4368a38cde0c32b2612f",
       "version_major": 2,
       "version_minor": 0
      },
      "text/plain": [
       "interactive(children=(SelectionRangeSlider(description='Dates', index=(2553, 2584), layout=Layout(width='500px…"
      ]
     },
     "metadata": {},
     "output_type": "display_data"
    }
   ],
   "source": [
    "# slider\n",
    "dates = [i.strftime('%b %Y') for i in by_date['datetime']]\n",
    "date_slider = widgets.SelectionRangeSlider(\n",
    "    options=dates,\n",
    "    index=(0, len(by_date['datetime']) - 1),\n",
    "    description='Dates',\n",
    "    layout={'width': '500px'},\n",
    "    value=('Jan 2016', 'Feb 2016'),\n",
    "    continuous_update = True\n",
    ")\n",
    "\n",
    "# zoom function\n",
    "def adjust_zoom(x):\n",
    "    xs.min = pd.to_datetime(x[0])\n",
    "    xs.max = pd.to_datetime(x[1])\n",
    "    \n",
    "interactive(adjust_zoom, x=date_slider)   "
   ]
  },
  {
   "cell_type": "code",
   "execution_count": 56,
   "metadata": {},
   "outputs": [],
   "source": []
  }
 ],
 "metadata": {
  "kernelspec": {
   "display_name": "Python 3",
   "language": "python",
   "name": "python3"
  },
  "language_info": {
   "codemirror_mode": {
    "name": "ipython",
    "version": 3
   },
   "file_extension": ".py",
   "mimetype": "text/x-python",
   "name": "python",
   "nbconvert_exporter": "python",
   "pygments_lexer": "ipython3",
   "version": "3.6.5"
  }
 },
 "nbformat": 4,
 "nbformat_minor": 2
}
